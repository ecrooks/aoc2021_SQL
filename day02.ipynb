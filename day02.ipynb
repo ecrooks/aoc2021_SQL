{
 "cells": [
  {
   "cell_type": "markdown",
   "metadata": {},
   "source": [
    "# Advent of Code Day 02\n",
    "Coded in Db2 SQL. See [readme](https://github.com/ecrooks/aoc2021_SQL) for more details on how to use. "
   ]
  },
  {
   "cell_type": "markdown",
   "metadata": {},
   "source": [
    "Env setup - only needs to run once on each machine"
   ]
  },
  {
   "cell_type": "code",
   "execution_count": null,
   "metadata": {},
   "outputs": [],
   "source": [
    "!pip install ipython-sql\n",
    "!pip install ibm_db \n",
    "!pip install ibm_db_sa"
   ]
  },
  {
   "cell_type": "markdown",
   "metadata": {},
   "source": [
    "Restart the Kernel if this is your first time installing the above. The next steps will fail unless you do this."
   ]
  },
  {
   "cell_type": "markdown",
   "metadata": {},
   "source": [
    "Import modules and load the SQL magic"
   ]
  },
  {
   "cell_type": "code",
   "execution_count": null,
   "metadata": {},
   "outputs": [],
   "source": [
    "import ibm_db\n",
    "import ibm_db_sa\n",
    "import sqlalchemy\n",
    "%load_ext sql\n",
    "import getpass\n",
    "import csv"
   ]
  },
  {
   "cell_type": "code",
   "execution_count": null,
   "metadata": {},
   "outputs": [],
   "source": [
    "# get db2.ipynb at https://github.com/IBM/db2-jupyter/blob/master/db2.ipynb\n",
    "# much easier to work with stored procedures with these tools\n",
    "%run db2.ipynb"
   ]
  },
  {
   "cell_type": "markdown",
   "metadata": {},
   "source": [
    "Connect to the database. Change the values of user, host, and password to match your environment. For connection to a local host, use 'localhost' for the host name. Also change the port number and database name in the connection string."
   ]
  },
  {
   "cell_type": "code",
   "execution_count": null,
   "metadata": {},
   "outputs": [],
   "source": [
    "user='db2inst1'\n",
    "host='localhost'\n",
    "dbname='aocdb'\n",
    "\n",
    "\n",
    "password = getpass.getpass('Enter password for '+user+' on '+dbname)\n",
    "\n",
    "#%sql db2+ibm_db://$user:$password@$host:50000/$dbname\n",
    "%sql CONNECT TO $dbname USER $user USING $password HOST $host PORT 50000"
   ]
  },
  {
   "cell_type": "markdown",
   "metadata": {},
   "source": [
    "## Day 2, Part 1 Solution"
   ]
  },
  {
   "cell_type": "markdown",
   "metadata": {},
   "source": [
    "### Problem statement: \n",
    "\n",
    ">--- Day 2: Dive! ---\n",
    ">Now, you need to figure out how to pilot this thing.  \n",
    ">\n",
    ">It seems like the submarine can take a series of commands like forward 1, down 2, or up 3:  \n",
    ">\n",
    ">forward X increases the horizontal position by X units.  \n",
    ">down X increases the depth by X units.  \n",
    ">up X decreases the depth by X units.  \n",
    ">Note that since you're on a submarine, down and up affect your depth, and so they have the opposite result of what you might expect.  \n",
    ">\n",
    ">The submarine seems to already have a planned course (your puzzle input). You should probably figure out where it's >going. For example:  \n",
    ">  \n",
    ">forward 5  \n",
    ">down 5  \n",
    ">forward 8  \n",
    ">up 3  \n",
    ">down 8  \n",
    ">forward 2  \n",
    ">Your horizontal position and depth both start at 0. The steps above would then modify them as follows:  \n",
    ">  \n",
    ">forward 5 adds 5 to your horizontal position, a total of 5.  \n",
    ">down 5 adds 5 to your depth, resulting in a value of 5.  \n",
    ">forward 8 adds 8 to your horizontal position, a total of 13.  \n",
    ">up 3 decreases your depth by 3, resulting in a value of 2.  \n",
    ">down 8 adds 8 to your depth, resulting in a value of 10.  \n",
    ">forward 2 adds 2 to your horizontal position, a total of 15.  \n",
    ">After following these instructions, you would have a horizontal position of 15 and a depth of 10. (Multiplying these together produces 150.)  \n",
    ">  \n",
    ">Calculate the horizontal position and depth you would have after following the planned course. What do you get if you multiply your final horizontal position by your final depth?  "
   ]
  },
  {
   "cell_type": "markdown",
   "metadata": {},
   "source": [
    "### Create Objects and Load Data"
   ]
  },
  {
   "cell_type": "markdown",
   "metadata": {},
   "source": [
    "Create table to hold and work with the Data. Order actually doesn't matter here, but I'm a DBA and incapable of creating a table without a primary key if I have a choice, and I don't know if order might matter for part2. We'll use an identity colum to track the order of the values. In SQL, we cannot depend on data coming back in the order we inserted it."
   ]
  },
  {
   "cell_type": "code",
   "execution_count": null,
   "metadata": {},
   "outputs": [],
   "source": [
    "%sql drop table aoc_day02;"
   ]
  },
  {
   "cell_type": "code",
   "execution_count": null,
   "metadata": {},
   "outputs": [],
   "source": [
    "%%sql \n",
    "create table aoc_day02 (\n",
    "\tseq int generated by default as identity primary key\n",
    "\t, direction varchar(18) not null\n",
    "\t, units int not null);\n",
    "create index ix_day02_direction on aoc_day02 (direction, units) allow reverse scans;"
   ]
  },
  {
   "cell_type": "markdown",
   "metadata": {},
   "source": [
    "Import data into the table. Placing the file in the repo data directory will make it available in the right location if you use the container provided."
   ]
  },
  {
   "cell_type": "markdown",
   "metadata": {},
   "source": [
    "I wanted to use SQL for everything, but one thing Db2 can't handle in delimited files is a space as a delimiter. This means I have to parse the file in Python and write it out in some different format. Might as well be a csv."
   ]
  },
  {
   "cell_type": "code",
   "execution_count": null,
   "metadata": {},
   "outputs": [],
   "source": [
    "with open(\"data/day02_input_sample.del\") as fin, open(\"data/day02_input_sample.csv\", 'w') as fout:\n",
    "    o=csv.writer(fout)\n",
    "    for line in fin:\n",
    "        o.writerow(line.split())"
   ]
  },
  {
   "cell_type": "markdown",
   "metadata": {},
   "source": [
    "Sample data"
   ]
  },
  {
   "cell_type": "code",
   "execution_count": null,
   "metadata": {},
   "outputs": [],
   "source": [
    "%%sql \n",
    "delete from aoc_day02;\n",
    "call admin_cmd ('import from /database/day02_input_sample.csv of del \n",
    "    insert into aoc_day02 (direction, units)');"
   ]
  },
  {
   "cell_type": "markdown",
   "metadata": {},
   "source": [
    "Quick verification"
   ]
  },
  {
   "cell_type": "code",
   "execution_count": null,
   "metadata": {},
   "outputs": [],
   "source": [
    "%sql select count(*) from aoc_day02;"
   ]
  },
  {
   "cell_type": "code",
   "execution_count": null,
   "metadata": {},
   "outputs": [],
   "source": [
    "%sql select * from aoc_day02 fetch first 5 rows only;"
   ]
  },
  {
   "cell_type": "markdown",
   "metadata": {},
   "source": [
    "Full data"
   ]
  },
  {
   "cell_type": "code",
   "execution_count": null,
   "metadata": {},
   "outputs": [],
   "source": [
    "with open(\"data/day02_input.del\") as fin, open(\"data/day02_input.csv\", 'w') as fout:\n",
    "    o=csv.writer(fout)\n",
    "    for line in fin:\n",
    "        o.writerow(line.split())"
   ]
  },
  {
   "cell_type": "code",
   "execution_count": null,
   "metadata": {},
   "outputs": [],
   "source": [
    "%%sql \n",
    "delete from aoc_day02;\n",
    "call admin_cmd ('import from /database/day02_input.csv of del \n",
    "                    insert into aoc_day02 (direction, units)');"
   ]
  },
  {
   "cell_type": "code",
   "execution_count": null,
   "metadata": {},
   "outputs": [],
   "source": [
    "%sql select count(*) from aoc_day02;"
   ]
  },
  {
   "cell_type": "code",
   "execution_count": null,
   "metadata": {},
   "outputs": [],
   "source": [
    "# quick view of the data\n",
    "%sql select * from aoc_day02 fetch first 10 rows only"
   ]
  },
  {
   "cell_type": "markdown",
   "metadata": {},
   "source": [
    "### Final Solution to Part 1"
   ]
  },
  {
   "cell_type": "code",
   "execution_count": null,
   "metadata": {},
   "outputs": [],
   "source": [
    "%%sql \n",
    "select direction, sum(units) as sum_units\n",
    "    from aoc_day02 group by direction"
   ]
  },
  {
   "cell_type": "markdown",
   "metadata": {},
   "source": [
    "Technically, I don't have to use a CTE here, but I believe using one will reduce the number of tablescans I'll have to do on the full data."
   ]
  },
  {
   "cell_type": "code",
   "execution_count": null,
   "metadata": {},
   "outputs": [],
   "source": [
    "%%sql \n",
    "with m as (select direction, sum(units) as sum_units\n",
    "    from aoc_day02 group by direction)\n",
    "select (select sum_units from m where direction='forward') as forward\n",
    "        , (select sum_units from m where direction='down') - (select sum_units from m where direction='up') as depth\n",
    "    from sysibm.sysdummy1;"
   ]
  },
  {
   "cell_type": "code",
   "execution_count": null,
   "metadata": {},
   "outputs": [],
   "source": [
    "%%sql \n",
    "with m as (select direction, sum(units) as sum_units\n",
    "    from aoc_day02 group by direction)\n",
    "select (select sum_units from m where direction='forward') \n",
    "        * ((select sum_units from m where direction='down') - (select sum_units from m where direction='up')) as answer\n",
    "    from sysibm.sysdummy1;"
   ]
  },
  {
   "cell_type": "markdown",
   "metadata": {},
   "source": [
    "## Day 1, Part 2 Solution"
   ]
  },
  {
   "cell_type": "markdown",
   "metadata": {},
   "source": [
    "### Problem statement: \n",
    ">Based on your calculations, the planned course doesn't seem to make any sense. You find the submarine manual and discover that the process is actually slightly more complicated.  \n",
    ">  \n",
    ">In addition to horizontal position and depth, you'll also need to track a third value, aim, which also starts at 0. The commands also mean something entirely different than you first thought:  \n",
    ">  \n",
    ">down X increases your aim by X units.  \n",
    ">up X decreases your aim by X units.  \n",
    ">forward X does two things:  \n",
    ">It increases your horizontal position by X units.  \n",
    ">It increases your depth by your aim multiplied by X.  \n",
    ">Again note that since you're on a submarine, down and up do the opposite of what you might expect: \"down\" means aiming in the positive direction.  \n",
    ">  \n",
    ">Now, the above example does something different:  \n",
    ">  \n",
    ">forward 5 adds 5 to your horizontal position, a total of 5. Because your aim is 0, your depth does not change.  \n",
    ">down 5 adds 5 to your aim, resulting in a value of 5.  \n",
    ">forward 8 adds 8 to your horizontal position, a total of 13. Because your aim is 5, your depth increases by 8*5=40.  \n",
    ">up 3 decreases your aim by 3, resulting in a value of 2.  \n",
    ">down 8 adds 8 to your aim, resulting in a value of 10.  \n",
    ">forward 2 adds 2 to your horizontal position, a total of 15. Because your aim is 10, your depth increases by 2*10=20 to a total of 60.  \n",
    ">After following these new instructions, you would have a horizontal position of 15 and a depth of 60. (Multiplying these produces 900.)  \n",
    ">  \n",
    ">Using this new interpretation of the commands, calculate the horizontal position and depth you would have after following the planned course. What do you get if you multiply your final horizontal position by your final depth?  "
   ]
  },
  {
   "cell_type": "markdown",
   "metadata": {},
   "source": [
    "As I suspected, order now matters. I think I'll use a stored procedure here, as SQL PL works better for this problem. "
   ]
  },
  {
   "cell_type": "markdown",
   "metadata": {},
   "source": [
    "### Final Solution to Part 2"
   ]
  },
  {
   "cell_type": "markdown",
   "metadata": {},
   "source": [
    "Note: this section will not work without the extensions in db2.ipynb"
   ]
  },
  {
   "cell_type": "code",
   "execution_count": null,
   "metadata": {},
   "outputs": [],
   "source": [
    "%%sql -d\n",
    "create or replace procedure db2inst1.sp_aoc_day02_part2 ( INOUT v_position INT\n",
    "                                                        , INOUT v_depth INT\n",
    "                                                        , INOUT v_aim INT\n",
    "                                                        , OUT v_ans INT )\n",
    "        not deterministic\n",
    "        language sql\n",
    "        reads sql data\n",
    "BEGIN\n",
    "        -- declare variables\n",
    "        declare v_aim int;\n",
    "        -- set isolation level\n",
    "        set current isolation = UR;\n",
    "        --set staring values\n",
    "        set v_position = coalesce(v_position,0);\n",
    "        set v_aim = coalesce(v_aim,0);\n",
    "        set v_depth = coalesce(v_depth,0);\n",
    "        -- query table and process row by row\n",
    "        for for_routine as c_aoc_day02_data cursor for\n",
    "                select direction, units from aoc_day02 order by seq\n",
    "        do\n",
    "                if direction = 'forward' THEN\n",
    "                        set v_position = v_position + units;\n",
    "                        set v_depth = v_depth + (v_aim * units);\n",
    "                end if;\n",
    "                if direction = 'down' THEN\n",
    "                        set v_aim = v_aim + units;\n",
    "                end if;\n",
    "                if direction = 'up' THEN\n",
    "                        set v_aim = v_aim - units;\n",
    "                end if;\n",
    "        end for;\n",
    "        set v_ans = v_position * v_depth;\n",
    "END @"
   ]
  },
  {
   "cell_type": "code",
   "execution_count": null,
   "metadata": {},
   "outputs": [],
   "source": [
    "pos=0\n",
    "dep=0\n",
    "aim=0\n",
    "ans=0\n",
    "pos,dep,aim,ans=%sql -r call db2inst1.sp_aoc_day02_part2 (:pos,:dep,:aim,:ans)\n",
    "display(\"The horizontal position is: \"+pos)\n",
    "display(\"The depth is: \"+dep)\n",
    "display(\"The answer is: \"+ans)"
   ]
  },
  {
   "cell_type": "code",
   "execution_count": null,
   "metadata": {},
   "outputs": [],
   "source": []
  }
 ],
 "metadata": {
  "kernelspec": {
   "display_name": "Python 3",
   "language": "python",
   "name": "python3"
  },
  "language_info": {
   "codemirror_mode": {
    "name": "ipython",
    "version": 3
   },
   "file_extension": ".py",
   "mimetype": "text/x-python",
   "name": "python",
   "nbconvert_exporter": "python",
   "pygments_lexer": "ipython3",
   "version": "3.7.4"
  }
 },
 "nbformat": 4,
 "nbformat_minor": 2
}
