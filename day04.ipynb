{
 "cells": [
  {
   "cell_type": "markdown",
   "metadata": {},
   "source": [
    "#### Advent of Code Day 04\n",
    "Coded in Db2 SQL. See [readme](https://github.com/ecrooks/aoc2021_SQL) for more details on how to use. "
   ]
  },
  {
   "cell_type": "markdown",
   "metadata": {},
   "source": [
    "Env setup - only needs to run once on each machine"
   ]
  },
  {
   "cell_type": "code",
   "execution_count": null,
   "metadata": {},
   "outputs": [],
   "source": [
    "!pip install ipython-sql\n",
    "!pip install ibm_db \n",
    "!pip install ibm_db_sa"
   ]
  },
  {
   "cell_type": "markdown",
   "metadata": {},
   "source": [
    "Restart the Kernel if this is your first time installing the above. The next steps will fail unless you do this."
   ]
  },
  {
   "cell_type": "markdown",
   "metadata": {},
   "source": [
    "Import modules and load the SQL magic"
   ]
  },
  {
   "cell_type": "code",
   "execution_count": null,
   "metadata": {},
   "outputs": [],
   "source": [
    "import ibm_db\n",
    "import ibm_db_sa\n",
    "import sqlalchemy\n",
    "%load_ext sql\n",
    "import getpass\n",
    "import csv"
   ]
  },
  {
   "cell_type": "markdown",
   "metadata": {},
   "source": [
    "Connect to the database. Change the values of user, host, and password to match your environment. For connection to a local host, use 'localhost' for the host name. Also change the port number and database name in the connection string."
   ]
  },
  {
   "cell_type": "code",
   "execution_count": null,
   "metadata": {},
   "outputs": [],
   "source": [
    "user='db2inst1'\n",
    "host='localhost'\n",
    "dbname='aocdb'\n",
    "\n",
    "\n",
    "password = getpass.getpass('Enter password for '+user+' on '+dbname)\n",
    "\n",
    "%sql db2+ibm_db://$user:$password@$host:50000/$dbname"
   ]
  },
  {
   "cell_type": "markdown",
   "metadata": {},
   "source": [
    "## Day 3, Part 1 Solution"
   ]
  },
  {
   "cell_type": "markdown",
   "metadata": {},
   "source": [
    "### Problem statement: \n",
    "\n",
    ">--- Day 4: Giant Squid ---\n",
    "You're already almost 1.5km (almost a mile) below the surface of the ocean, already so deep that you can't see any sunlight. What you can see, however, is a giant squid that has attached itself to the outside of your submarine.  \n",
    ">  \n",
    ">Maybe it wants to play bingo?  \n",
    ">  \n",
    ">Bingo is played on a set of boards each consisting of a 5x5 grid of numbers. Numbers are chosen at random, and the chosen number is marked on all boards on which it appears. (Numbers may not appear on all boards.) If all numbers in any row or any column of a board are marked, that board wins. (Diagonals don't count.)  \n",
    ">  \n",
    ">The submarine has a bingo subsystem to help passengers (currently, you and the giant squid) pass the time. It automatically generates a random order in which to draw numbers and a random set of boards (your puzzle input). For example:  \n",
    ">  \n",
    ">7,4,9,5,11,17,23,2,0,14,21,24,10,16,13,6,15,25,12,22,18,20,8,19,3,26,1  \n",
    "> \n",
    "```\n",
    ">22 13 17 11  0  \n",
    "> 8  2 23  4 24  \n",
    ">21  9 14 16  7  \n",
    "> 6 10  3 18  5  \n",
    "> 1 12 20 15 19  \n",
    ">  \n",
    "> 3 15  0  2 22  \n",
    "> 9 18 13 17  5  \n",
    ">19  8  7 25 23  \n",
    ">20 11 10 24  4  \n",
    ">14 21 16 12  6  \n",
    ">  \n",
    ">14 21 17 24  4  \n",
    ">10 16 15  9 19  \n",
    ">18  8 23 26 20  \n",
    ">22 11 13  6  5  \n",
    "> 2  0 12  3  7  \n",
    "\n",
    "```\n",
    ">After the first five numbers are drawn (7, 4, 9, 5, and 11), there are no winners, but the boards are marked as follows (shown here adjacent to each other to save space):  \n",
    ">  \n",
    "```\n",
    ">22 13 17 11  0         3 15  0  2 22        14 21 17 24  4  \n",
    "> 8  2 23  4 24         9 18 13 17  5        10 16 15  9 19  \n",
    ">21  9 14 16  7        19  8  7 25 23        18  8 23 26 20  \n",
    "> 6 10  3 18  5        20 11 10 24  4        22 11 13  6  5  \n",
    "> 1 12 20 15 19        14 21 16 12  6         2  0 12  3  7  \n",
    "```\n",
    ">After the next six numbers are drawn (17, 23, 2, 0, 14, and 21), there are still no winners:  \n",
    ">  \n",
    "```\n",
    ">22 13 17 11  0         3 15  0  2 22        14 21 17 24  4  \n",
    "> 8  2 23  4 24         9 18 13 17  5        10 16 15  9 19  \n",
    ">21  9 14 16  7        19  8  7 25 23        18  8 23 26 20  \n",
    "> 6 10  3 18  5        20 11 10 24  4        22 11 13  6  5  \n",
    "> 1 12 20 15 19        14 21 16 12  6         2  0 12  3  7  \n",
    "```\n",
    ">Finally, 24 is drawn:  \n",
    "```\n",
    ">22 13 17 11  0         3 15  0  2 22        14 21 17 24  4  \n",
    "> 8  2 23  4 24         9 18 13 17  5        10 16 15  9 19  \n",
    ">21  9 14 16  7        19  8  7 25 23        18  8 23 26 20  \n",
    "> 6 10  3 18  5        20 11 10 24  4        22 11 13  6  5  \n",
    "> 1 12 20 15 19        14 21 16 12  6         2  0 12  3  7  \n",
    "```\n",
    ">At this point, the third board wins because it has at least one complete row or column of marked numbers (in this >case, the entire top row is marked: 14 21 17 24 4).  \n",
    ">  \n",
    ">The score of the winning board can now be calculated. Start by finding the sum of all unmarked numbers on that >board; in this case, the sum is 188. Then, multiply that sum by the number that was just called when the board won, >24, to get the final score, 188 * 24 = 4512.  \n",
    ">  \n",
    ">To guarantee victory against the giant squid, figure out which board will win first. What will your final score be >if you choose that board?  "
   ]
  },
  {
   "cell_type": "markdown",
   "metadata": {},
   "source": [
    "### Create Objects and Load Data"
   ]
  },
  {
   "cell_type": "markdown",
   "metadata": {},
   "source": [
    "Table for numbers chosen"
   ]
  },
  {
   "cell_type": "code",
   "execution_count": null,
   "metadata": {},
   "outputs": [],
   "source": [
    "%sql drop table aoc_day04_picker"
   ]
  },
  {
   "cell_type": "code",
   "execution_count": null,
   "metadata": {},
   "outputs": [],
   "source": [
    "%%sql \n",
    "create table if not exists aoc_day04_picker (\n",
    "\tseq int generated by default as identity primary key\n",
    "\t, num_selected int not null\n",
    "\t, processed smallint not null default 0\n",
    ");"
   ]
  },
  {
   "cell_type": "markdown",
   "metadata": {},
   "source": [
    "Table for game boards"
   ]
  },
  {
   "cell_type": "code",
   "execution_count": null,
   "metadata": {},
   "outputs": [],
   "source": [
    "%sql drop table aoc_day04_boards"
   ]
  },
  {
   "cell_type": "code",
   "execution_count": null,
   "metadata": {},
   "outputs": [],
   "source": [
    "%%sql \n",
    "create table if not exists aoc_day04_boards (\n",
    "\tseq int generated by default as identity primary key\n",
    "\t, game_num int not null\n",
    "\t, row_num smallint not null\n",
    "    , col_num smallint not null\n",
    "    , value int not null\n",
    "    , picked smallint not null default 0\n",
    ");\n",
    "create unique index ix_aoc_day04_boards_position on aoc_day04_boards (game_num, row_num, col_num) include (picked) allow reverse scans;\n",
    "create index ix_aoc_day04_boards_value on aoc_day04_boards ( value ) allow reverse scans;"
   ]
  },
  {
   "cell_type": "markdown",
   "metadata": {},
   "source": [
    "Data is not in a format that is easy for us to parse it with Db2 alone, so we'll parse it with Python first, then load it in."
   ]
  },
  {
   "cell_type": "code",
   "execution_count": null,
   "metadata": {},
   "outputs": [],
   "source": [
    "line_num=0\n",
    "game_num=-1\n",
    "horiz_pos=0\n",
    "vert_pos=-1\n",
    "with open(\"data/day04_input.txt\") as fin, open(\"data/day04_input.csv\", 'w') as fout, open(\"data/day04_input_bp.csv\", 'w') as pfout:\n",
    "    o=csv.writer(fout)\n",
    "    op=csv.writer(pfout)\n",
    "    for line in fin:\n",
    "        #display(line_num)\n",
    "        if line_num == 0 :\n",
    "            #display(line)\n",
    "            line = line[:-1]\n",
    "            #display(line)\n",
    "            #display(type(line))\n",
    "            picked_vals=list(line.split(\",\"))\n",
    "            #display(picked_vals)\n",
    "            #op.writerows([picked_vals])\n",
    "            for picked_val in picked_vals:\n",
    "                display\n",
    "                op.writerow([picked_val])\n",
    "            line_num = line_num + 1\n",
    "            continue\n",
    "        if line == '\\n' :\n",
    "            game_num = game_num + 1\n",
    "            vert_pos=-1\n",
    "        #display(\"game_num: \"+str(game_num))\n",
    "        horiz_pos=0\n",
    "        for val in line.split():\n",
    "                #display([game_num, vert_pos, horiz_pos, val])\n",
    "                o.writerow([game_num, vert_pos, horiz_pos, val])\n",
    "                horiz_pos = horiz_pos + 1\n",
    "        vert_pos = vert_pos + 1\n",
    "        line_num = line_num + 1"
   ]
  },
  {
   "cell_type": "markdown",
   "metadata": {},
   "source": [
    "Import data into the table. Placing the file in the repo data directory will make it available in the right location if you use the container provided."
   ]
  },
  {
   "cell_type": "code",
   "execution_count": null,
   "metadata": {},
   "outputs": [],
   "source": [
    "%%sql \n",
    "delete from aoc_day04_picker;\n",
    "call admin_cmd ('import from /database/day04_input_bp.csv of del \n",
    "    insert into aoc_day04_picker (num_selected)');"
   ]
  },
  {
   "cell_type": "code",
   "execution_count": null,
   "metadata": {},
   "outputs": [],
   "source": [
    "%%sql \n",
    "delete from aoc_day04_boards;\n",
    "call admin_cmd ('import from /database/day04_input.csv of del \n",
    "    insert into aoc_day04_boards (game_num, row_num, col_num, value)');"
   ]
  },
  {
   "cell_type": "markdown",
   "metadata": {},
   "source": [
    "Quick verification"
   ]
  },
  {
   "cell_type": "code",
   "execution_count": null,
   "metadata": {},
   "outputs": [],
   "source": [
    "%sql select count(*) from aoc_day04_picker;"
   ]
  },
  {
   "cell_type": "code",
   "execution_count": null,
   "metadata": {},
   "outputs": [],
   "source": [
    "%sql select count(*) from aoc_day04_boards;"
   ]
  },
  {
   "cell_type": "code",
   "execution_count": null,
   "metadata": {},
   "outputs": [],
   "source": [
    "%sql select * from aoc_day04_picker fetch first 5 rows only;"
   ]
  },
  {
   "cell_type": "code",
   "execution_count": null,
   "metadata": {},
   "outputs": [],
   "source": [
    "%sql select * from aoc_day04_boards fetch first 5 rows only;"
   ]
  },
  {
   "cell_type": "code",
   "execution_count": null,
   "metadata": {
    "scrolled": true
   },
   "outputs": [],
   "source": [
    "%%sql update aoc_day04_boards as b \n",
    "    set picked=(select seq from aoc_day04_picker p where b.value=p.num_selected)"
   ]
  },
  {
   "cell_type": "code",
   "execution_count": null,
   "metadata": {},
   "outputs": [],
   "source": [
    "%sql select * from aoc_day04_boards fetch first 5 rows only;"
   ]
  },
  {
   "cell_type": "code",
   "execution_count": null,
   "metadata": {},
   "outputs": [],
   "source": [
    "%sql select * from aoc_day04_boards where picked=0"
   ]
  },
  {
   "cell_type": "markdown",
   "metadata": {},
   "source": [
    "### Solution to Part 1"
   ]
  },
  {
   "cell_type": "markdown",
   "metadata": {},
   "source": [
    "Find lowest winning row"
   ]
  },
  {
   "cell_type": "code",
   "execution_count": null,
   "metadata": {},
   "outputs": [],
   "source": [
    "%%sql with rowsum as (select game_num, row_num, count(picked) as count, max(picked) as max_seq\n",
    "from aoc_day04_boards \n",
    "where picked !=0 \n",
    "group by game_num, row_num\n",
    "having count(picked)=5)\n",
    "select game_num, max_seq from rowsum order by max_seq fetch first 1 row only "
   ]
  },
  {
   "cell_type": "markdown",
   "metadata": {},
   "source": [
    "Find lowest winning column"
   ]
  },
  {
   "cell_type": "code",
   "execution_count": null,
   "metadata": {},
   "outputs": [],
   "source": [
    "%%sql with colsum as (select game_num, col_num, count(picked) as count, max(picked) as max_seq\n",
    "from aoc_day04_boards \n",
    "where picked !=0 \n",
    "group by game_num, col_num\n",
    "having count(picked)=5)\n",
    "select game_num, max_seq from colsum order by max_seq fetch first 1 row only "
   ]
  },
  {
   "cell_type": "markdown",
   "metadata": {},
   "source": [
    "Calculate board score"
   ]
  },
  {
   "cell_type": "code",
   "execution_count": null,
   "metadata": {},
   "outputs": [],
   "source": [
    "%%sql select sum(value) * (select value from aoc_day04_boards where game_num=2 and picked=12)\n",
    "from aoc_day04_boards\n",
    "where game_num = 2\n",
    "    and picked > 12"
   ]
  },
  {
   "cell_type": "markdown",
   "metadata": {},
   "source": [
    "Put it all together in one query"
   ]
  },
  {
   "cell_type": "code",
   "execution_count": null,
   "metadata": {},
   "outputs": [],
   "source": [
    "%%sql with rowsum as (select game_num, row_num, count(picked) as count, max(picked) as max_seq\n",
    "from aoc_day04_boards \n",
    "where picked !=0 \n",
    "group by game_num, row_num\n",
    "having count(picked)=5),\n",
    "colsum as (select game_num, col_num, count(picked) as count, max(picked) as max_seq\n",
    "from aoc_day04_boards \n",
    "where picked !=0 \n",
    "group by game_num, col_num\n",
    "having count(picked)=5),\n",
    "allwin as (select game_num, max_seq from rowsum where max_seq=(select min(max_seq) from rowsum) union all select game_num, max_seq from colsum where max_seq=(select min(max_seq) from colsum) ),\n",
    "finalwin as (select * from allwin where max_seq = (select min(max_seq) from allwin))\n",
    "select sum(value) * (select value from aoc_day04_boards where game_num=(select game_num from finalwin) and picked=(select max_seq from finalwin))\n",
    "from aoc_day04_boards\n",
    "where game_num = (select game_num from finalwin)\n",
    "    and picked > (select max_seq from finalwin)"
   ]
  },
  {
   "cell_type": "markdown",
   "metadata": {},
   "source": [
    "## Day 4, Part 2 Solution"
   ]
  },
  {
   "cell_type": "markdown",
   "metadata": {},
   "source": [
    "### Problem statement: \n",
    ">--- Part Two ---  \n",
    ">On the other hand, it might be wise to try a different strategy: let the giant squid win.  \n",
    ">\n",
    ">You aren't sure how many bingo boards a giant squid could play at once, so rather than waste time counting its arms, the safe thing to do is to figure out which board will win last and choose that one. That way, no matter which boards it picks, it will win for sure.\n",
    ">\n",
    ">In the above example, the second board is the last to win, which happens after 13 is eventually called and its middle column is completely marked. If you were to keep playing until this point, the second board would have a sum of unmarked numbers equal to 148 for a final score of 148 * 13 = 1924.\n",
    ">\n",
    ">Figure out which board will win last. Once it wins, what would its final score be?"
   ]
  },
  {
   "cell_type": "markdown",
   "metadata": {},
   "source": [
    "### Final Solution to Part 2 "
   ]
  },
  {
   "cell_type": "code",
   "execution_count": null,
   "metadata": {},
   "outputs": [],
   "source": [
    "%%sql with rowsum as (select game_num, row_num, count(picked) as count, max(picked) as max_seq\n",
    "from aoc_day04_boards \n",
    "where picked !=0 \n",
    "group by game_num, row_num\n",
    "having count(picked)=5)\n",
    "select * \n",
    "from rowsum as a\n",
    "where a.max_seq=(select min(b.max_seq) \n",
    "                 from rowsum as b \n",
    "                 where a.game_num=b.game_num  \n",
    "                 group by game_num)"
   ]
  },
  {
   "cell_type": "code",
   "execution_count": null,
   "metadata": {},
   "outputs": [],
   "source": [
    "%%sql with colsum as (select game_num, col_num, count(picked) as count, max(picked) as max_seq\n",
    "from aoc_day04_boards \n",
    "where picked !=0 \n",
    "group by game_num, col_num\n",
    "having count(picked)=5)\n",
    "select * \n",
    "from colsum as a\n",
    "where a.max_seq=(select min(b.max_seq) \n",
    "                 from colsum as b \n",
    "                 where a.game_num=b.game_num  \n",
    "                 group by game_num)"
   ]
  },
  {
   "cell_type": "markdown",
   "metadata": {},
   "source": [
    "Putting it together"
   ]
  },
  {
   "cell_type": "code",
   "execution_count": null,
   "metadata": {},
   "outputs": [],
   "source": [
    "%%sql with rowsum as (select game_num, row_num, count(picked) as count, max(picked) as max_seq\n",
    "from aoc_day04_boards \n",
    "where picked !=0 \n",
    "group by game_num, row_num\n",
    "having count(picked)=5),\n",
    "colsum as (select game_num, col_num, count(picked) as count, max(picked) as max_seq\n",
    "from aoc_day04_boards \n",
    "where picked !=0 \n",
    "group by game_num, col_num\n",
    "having count(picked)=5),\n",
    "allwin as (select game_num, max_seq from rowsum as a where max_seq=(select min(b.max_seq) \n",
    "                 from rowsum as b \n",
    "                 where a.game_num=b.game_num  \n",
    "                 group by game_num) \n",
    "           union \n",
    "               select game_num, max_seq from colsum as c where max_seq=(select min(d.max_seq) \n",
    "                 from colsum as d \n",
    "                 where c.game_num=d.game_num  \n",
    "                 group by game_num) ),\n",
    "eachwin as (select * from allwin as aw where max_seq = (select min(max_seq) from allwin as aw2 where aw.game_num=aw2.game_num)),\n",
    "finalwin as (select * from eachwin where max_seq=(select max(max_seq) from eachwin))\n",
    "select * from finalwin order by game_num"
   ]
  },
  {
   "cell_type": "markdown",
   "metadata": {},
   "source": [
    "Adding the score calcuation"
   ]
  },
  {
   "cell_type": "code",
   "execution_count": null,
   "metadata": {},
   "outputs": [],
   "source": [
    "%%sql with rowsum as (select game_num, row_num, count(picked) as count, max(picked) as max_seq\n",
    "from aoc_day04_boards \n",
    "where picked !=0 \n",
    "group by game_num, row_num\n",
    "having count(picked)=5),\n",
    "colsum as (select game_num, col_num, count(picked) as count, max(picked) as max_seq\n",
    "from aoc_day04_boards \n",
    "where picked !=0 \n",
    "group by game_num, col_num\n",
    "having count(picked)=5),\n",
    "allwin as (select game_num, max_seq from rowsum as a where max_seq=(select min(b.max_seq) \n",
    "                 from rowsum as b \n",
    "                 where a.game_num=b.game_num  \n",
    "                 group by game_num) \n",
    "           union \n",
    "               select game_num, max_seq from colsum as c where max_seq=(select min(d.max_seq) \n",
    "                 from colsum as d \n",
    "                 where c.game_num=d.game_num  \n",
    "                 group by game_num) ),\n",
    "eachwin as (select * from allwin as aw where max_seq = (select min(max_seq) from allwin as aw2 where aw.game_num=aw2.game_num)),\n",
    "finalwin as (select * from eachwin where max_seq=(select max(max_seq) from eachwin))\n",
    "select sum(value) * (select value from aoc_day04_boards where game_num=(select min(game_num) from finalwin) and picked=(select max_seq from finalwin))\n",
    "from aoc_day04_boards\n",
    "where game_num = (select game_num from finalwin)\n",
    "    and picked > (select max_seq from finalwin)"
   ]
  }
 ],
 "metadata": {
  "kernelspec": {
   "display_name": "Python 3",
   "language": "python",
   "name": "python3"
  },
  "language_info": {
   "codemirror_mode": {
    "name": "ipython",
    "version": 3
   },
   "file_extension": ".py",
   "mimetype": "text/x-python",
   "name": "python",
   "nbconvert_exporter": "python",
   "pygments_lexer": "ipython3",
   "version": "3.7.4"
  }
 },
 "nbformat": 4,
 "nbformat_minor": 2
}
