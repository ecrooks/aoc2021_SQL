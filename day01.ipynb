{
 "cells": [
  {
   "cell_type": "markdown",
   "metadata": {},
   "source": [
    "# Advent of Code Day 01\n",
    "Coded in Db2 SQL. See [readme](https://github.com/ecrooks/aoc2021_SQL) for more details on how to use. "
   ]
  },
  {
   "cell_type": "markdown",
   "metadata": {},
   "source": [
    "Env setup - only needs to run once on each machine"
   ]
  },
  {
   "cell_type": "code",
   "execution_count": null,
   "metadata": {},
   "outputs": [],
   "source": [
    "!pip install ipython-sql\n",
    "!pip install ibm_db \n",
    "!pip install ibm_db_sa"
   ]
  },
  {
   "cell_type": "markdown",
   "metadata": {},
   "source": [
    "Restart the Kernel if this is your first time installing the above. The next steps will fail unless you do this."
   ]
  },
  {
   "cell_type": "markdown",
   "metadata": {},
   "source": [
    "Import modules and load the SQL magic"
   ]
  },
  {
   "cell_type": "code",
   "execution_count": 3,
   "metadata": {},
   "outputs": [
    {
     "name": "stdout",
     "output_type": "stream",
     "text": [
      "The sql extension is already loaded. To reload it, use:\n",
      "  %reload_ext sql\n"
     ]
    }
   ],
   "source": [
    "import ibm_db\n",
    "import ibm_db_sa\n",
    "import sqlalchemy\n",
    "%load_ext sql\n",
    "import getpass"
   ]
  },
  {
   "cell_type": "markdown",
   "metadata": {},
   "source": [
    "Connect to the database. Change the values of user, host, and password to match your environment. For connection to a local host, use 'localhost' for the host name. Also change the port number and database name in the connection string."
   ]
  },
  {
   "cell_type": "code",
   "execution_count": 4,
   "metadata": {},
   "outputs": [
    {
     "name": "stdout",
     "output_type": "stream",
     "text": [
      "Enter password for db2inst1 on aocdb········\n"
     ]
    }
   ],
   "source": [
    "user='db2inst1'\n",
    "host='localhost'\n",
    "dbname='aocdb'\n",
    "\n",
    "\n",
    "password = getpass.getpass('Enter password for '+user+' on '+dbname)\n",
    "\n",
    "%sql db2+ibm_db://$user:$password@$host:50000/$dbname"
   ]
  },
  {
   "cell_type": "markdown",
   "metadata": {},
   "source": [
    "## Day 1, Part 1 Solution"
   ]
  },
  {
   "cell_type": "markdown",
   "metadata": {},
   "source": [
    "### Problem statement: \n",
    "\n",
    ">As the submarine drops below the surface of the ocean, it automatically performs a sonar sweep of the nearby sea floor. On a small screen, the sonar sweep report (your puzzle input) appears: each line is a measurement of the sea floor depth as the sweep looks further and further away from the submarine.  \n",
    ">\n",
    ">For example, suppose you had the following report:  \n",
    ">\n",
    ">199  \n",
    ">200  \n",
    ">208  \n",
    ">210  \n",
    ">200  \n",
    ">207  \n",
    ">240  \n",
    ">269  \n",
    ">260  \n",
    ">263  \n",
    ">This report indicates that, scanning outward from the submarine, the sonar sweep found depths of 199, 200, 208, 210, >and so on.  \n",
    ">\n",
    ">The first order of business is to figure out how quickly the depth increases, just so you know what you're dealing with - you never know if the keys will get carried into deeper water by an ocean current or a fish or something.  \n",
    ">\n",
    ">To do this, count the number of times a depth measurement increases from the previous measurement. (There is no measurement before the first measurement.) In the example above, the changes are as follows:  \n",
    ">\n",
    ">199 (N/A - no previous measurement)  \n",
    ">200 (increased)  \n",
    ">208 (increased)  \n",
    ">210 (increased)  \n",
    ">200 (decreased)  \n",
    ">207 (increased)  \n",
    ">240 (increased)  \n",
    ">269 (increased)  \n",
    ">260 (decreased)  \n",
    ">263 (increased)  \n",
    ">In this example, there are 7 measurements that are larger than the previous measurement.  \n",
    ">\n",
    ">How many measurements are larger than the previous measurement?  \n",
    ">"
   ]
  },
  {
   "cell_type": "code",
   "execution_count": 5,
   "metadata": {},
   "outputs": [
    {
     "name": "stdout",
     "output_type": "stream",
     "text": [
      " * db2+ibm_db://db2inst1:***@localhost:50000/aocdb\n",
      "Done.\n"
     ]
    },
    {
     "data": {
      "text/html": [
       "<table>\n",
       "    <tr>\n",
       "        <th>seq</th>\n",
       "        <th>depth</th>\n",
       "    </tr>\n",
       "    <tr>\n",
       "        <td>1</td>\n",
       "        <td>199</td>\n",
       "    </tr>\n",
       "    <tr>\n",
       "        <td>2</td>\n",
       "        <td>200</td>\n",
       "    </tr>\n",
       "    <tr>\n",
       "        <td>3</td>\n",
       "        <td>208</td>\n",
       "    </tr>\n",
       "    <tr>\n",
       "        <td>4</td>\n",
       "        <td>210</td>\n",
       "    </tr>\n",
       "    <tr>\n",
       "        <td>5</td>\n",
       "        <td>200</td>\n",
       "    </tr>\n",
       "    <tr>\n",
       "        <td>6</td>\n",
       "        <td>207</td>\n",
       "    </tr>\n",
       "    <tr>\n",
       "        <td>7</td>\n",
       "        <td>240</td>\n",
       "    </tr>\n",
       "    <tr>\n",
       "        <td>8</td>\n",
       "        <td>269</td>\n",
       "    </tr>\n",
       "    <tr>\n",
       "        <td>9</td>\n",
       "        <td>260</td>\n",
       "    </tr>\n",
       "    <tr>\n",
       "        <td>10</td>\n",
       "        <td>263</td>\n",
       "    </tr>\n",
       "</table>"
      ],
      "text/plain": [
       "[(1, 199),\n",
       " (2, 200),\n",
       " (3, 208),\n",
       " (4, 210),\n",
       " (5, 200),\n",
       " (6, 207),\n",
       " (7, 240),\n",
       " (8, 269),\n",
       " (9, 260),\n",
       " (10, 263)]"
      ]
     },
     "execution_count": 5,
     "metadata": {},
     "output_type": "execute_result"
    }
   ],
   "source": [
    "# quick view of the data\n",
    "%sql select * from aoc_day01 fetch first 10 rows only"
   ]
  },
  {
   "cell_type": "markdown",
   "metadata": {},
   "source": [
    "### Final Solution to Part 1"
   ]
  },
  {
   "cell_type": "code",
   "execution_count": 17,
   "metadata": {},
   "outputs": [
    {
     "name": "stdout",
     "output_type": "stream",
     "text": [
      " * db2+ibm_db://db2inst1:***@localhost:50000/aocdb\n",
      "Done.\n"
     ]
    },
    {
     "data": {
      "text/html": [
       "<table>\n",
       "    <tr>\n",
       "        <th>COUNT</th>\n",
       "    </tr>\n",
       "    <tr>\n",
       "        <td>1655</td>\n",
       "    </tr>\n",
       "</table>"
      ],
      "text/plain": [
       "[(1655,)]"
      ]
     },
     "execution_count": 17,
     "metadata": {},
     "output_type": "execute_result"
    }
   ],
   "source": [
    "%%sql with depth_diff as (select depth - lag(depth,1) over(order by seq asc) as diff\n",
    "    from aoc_day01)\n",
    "select count(*) as count \n",
    "    from depth_diff where diff > 0"
   ]
  },
  {
   "cell_type": "markdown",
   "metadata": {},
   "source": [
    "## Day 1, Part 2 Solution"
   ]
  },
  {
   "cell_type": "markdown",
   "metadata": {},
   "source": [
    "### Problem statement: \n",
    ">Considering every single measurement isn't as useful as you expected: there's just too much noise in the data.  \n",
    ">  \n",
    ">Instead, consider sums of a three-measurement sliding window. Again considering the above example:  \n",
    ">\n",
    "```199  A      \n",
    "200  A B    \n",
    "208  A B C  \n",
    "210    B C D\n",
    "200  E   C D\n",
    "207  E F   D\n",
    "240  E F G  \n",
    "269    F G H\n",
    "260      G H\n",
    "263        H```  \n",
    "\n",
    "\n",
    ">Start by comparing the first and second three-measurement windows. The measurements in the first window are marked A (199, 200, 208); their sum is 199 + 200 + 208 = 607. The second window is marked B (200, 208, 210); its sum is 618. The sum of measurements in the second window is larger than the sum of the first, so this first comparison increased.  \n",
    ">  \n",
    ">Your goal now is to count the number of times the sum of measurements in this sliding window increases from the previous sum. So, compare A with B, then compare B with C, then C with D, and so on. Stop when there aren't enough measurements left to create a new three-measurement sum.  \n",
    ">  \n",
    ">In the above example, the sum of each three-measurement window is as follows:  \n",
    "\n",
    ">A: 607 (N/A - no previous sum)  \n",
    ">B: 618 (increased)  \n",
    ">C: 618 (no change)  \n",
    ">D: 617 (decreased)  \n",
    ">E: 647 (increased)  \n",
    ">F: 716 (increased)  \n",
    ">G: 769 (increased)  \n",
    ">H: 792 (increased)  \n",
    ">In this example, there are 5 sums that are larger than the previous sum.  \n",
    ">  \n",
    ">Consider sums of a three-measurement sliding window. How many sums are larger than the previous sum?  \n",
    "\n"
   ]
  },
  {
   "cell_type": "code",
   "execution_count": 25,
   "metadata": {},
   "outputs": [
    {
     "name": "stdout",
     "output_type": "stream",
     "text": [
      " * db2+ibm_db://db2inst1:***@localhost:50000/aocdb\n",
      "Done.\n"
     ]
    },
    {
     "data": {
      "text/html": [
       "<table>\n",
       "    <tr>\n",
       "        <th>depth</th>\n",
       "        <th>2</th>\n",
       "        <th>3</th>\n",
       "        <th>4</th>\n",
       "    </tr>\n",
       "    <tr>\n",
       "        <td>199</td>\n",
       "        <td>None</td>\n",
       "        <td>None</td>\n",
       "        <td>None</td>\n",
       "    </tr>\n",
       "    <tr>\n",
       "        <td>200</td>\n",
       "        <td>199</td>\n",
       "        <td>None</td>\n",
       "        <td>None</td>\n",
       "    </tr>\n",
       "    <tr>\n",
       "        <td>208</td>\n",
       "        <td>200</td>\n",
       "        <td>199</td>\n",
       "        <td>607</td>\n",
       "    </tr>\n",
       "    <tr>\n",
       "        <td>210</td>\n",
       "        <td>208</td>\n",
       "        <td>200</td>\n",
       "        <td>618</td>\n",
       "    </tr>\n",
       "    <tr>\n",
       "        <td>200</td>\n",
       "        <td>210</td>\n",
       "        <td>208</td>\n",
       "        <td>618</td>\n",
       "    </tr>\n",
       "    <tr>\n",
       "        <td>207</td>\n",
       "        <td>200</td>\n",
       "        <td>210</td>\n",
       "        <td>617</td>\n",
       "    </tr>\n",
       "    <tr>\n",
       "        <td>240</td>\n",
       "        <td>207</td>\n",
       "        <td>200</td>\n",
       "        <td>647</td>\n",
       "    </tr>\n",
       "    <tr>\n",
       "        <td>269</td>\n",
       "        <td>240</td>\n",
       "        <td>207</td>\n",
       "        <td>716</td>\n",
       "    </tr>\n",
       "    <tr>\n",
       "        <td>260</td>\n",
       "        <td>269</td>\n",
       "        <td>240</td>\n",
       "        <td>769</td>\n",
       "    </tr>\n",
       "    <tr>\n",
       "        <td>263</td>\n",
       "        <td>260</td>\n",
       "        <td>269</td>\n",
       "        <td>792</td>\n",
       "    </tr>\n",
       "</table>"
      ],
      "text/plain": [
       "[(199, None, None, None),\n",
       " (200, 199, None, None),\n",
       " (208, 200, 199, 607),\n",
       " (210, 208, 200, 618),\n",
       " (200, 210, 208, 618),\n",
       " (207, 200, 210, 617),\n",
       " (240, 207, 200, 647),\n",
       " (269, 240, 207, 716),\n",
       " (260, 269, 240, 769),\n",
       " (263, 260, 269, 792)]"
      ]
     },
     "execution_count": 25,
     "metadata": {},
     "output_type": "execute_result"
    }
   ],
   "source": [
    "%%sql select depth\n",
    "    ,lag(depth,1) over(order by seq asc)\n",
    "    , lag(depth,2) over(order by seq asc)\n",
    "    , depth + lag(depth,1) over(order by seq asc) + lag(depth,2) over(order by seq asc)\n",
    "    from aoc_day01"
   ]
  },
  {
   "cell_type": "markdown",
   "metadata": {},
   "source": [
    "Fairly manual approach, would not scale to larger windows, but should get the right answer"
   ]
  },
  {
   "cell_type": "code",
   "execution_count": 33,
   "metadata": {},
   "outputs": [
    {
     "name": "stdout",
     "output_type": "stream",
     "text": [
      " * db2+ibm_db://db2inst1:***@localhost:50000/aocdb\n",
      "Done.\n"
     ]
    },
    {
     "data": {
      "text/html": [
       "<table>\n",
       "    <tr>\n",
       "        <th>1</th>\n",
       "    </tr>\n",
       "    <tr>\n",
       "        <td>5</td>\n",
       "    </tr>\n",
       "</table>"
      ],
      "text/plain": [
       "[(5,)]"
      ]
     },
     "execution_count": 33,
     "metadata": {},
     "output_type": "execute_result"
    }
   ],
   "source": [
    "%%sql with depth3 as (select seq, depth + lag(depth,1) over(order by seq asc) + lag(depth,2) over(order by seq asc) as depth3\n",
    "        from aoc_day01)\n",
    "    ,depth3_diff as (select depth3 - (lag(depth3,1) over(order by seq asc)) as diff\n",
    "        from depth3)\n",
    "    select count(*) \n",
    "        from depth3_diff\n",
    "        where diff > 0"
   ]
  },
  {
   "cell_type": "code",
   "execution_count": 46,
   "metadata": {},
   "outputs": [
    {
     "name": "stdout",
     "output_type": "stream",
     "text": [
      " * db2+ibm_db://db2inst1:***@localhost:50000/aocdb\n",
      "Done.\n"
     ]
    },
    {
     "data": {
      "text/html": [
       "<table>\n",
       "    <tr>\n",
       "        <th>diff</th>\n",
       "    </tr>\n",
       "    <tr>\n",
       "        <td>None</td>\n",
       "    </tr>\n",
       "    <tr>\n",
       "        <td>None</td>\n",
       "    </tr>\n",
       "    <tr>\n",
       "        <td>607</td>\n",
       "    </tr>\n",
       "    <tr>\n",
       "        <td>618</td>\n",
       "    </tr>\n",
       "    <tr>\n",
       "        <td>618</td>\n",
       "    </tr>\n",
       "    <tr>\n",
       "        <td>617</td>\n",
       "    </tr>\n",
       "    <tr>\n",
       "        <td>647</td>\n",
       "    </tr>\n",
       "    <tr>\n",
       "        <td>716</td>\n",
       "    </tr>\n",
       "    <tr>\n",
       "        <td>769</td>\n",
       "    </tr>\n",
       "    <tr>\n",
       "        <td>792</td>\n",
       "    </tr>\n",
       "</table>"
      ],
      "text/plain": [
       "[(None,),\n",
       " (None,),\n",
       " (607,),\n",
       " (618,),\n",
       " (618,),\n",
       " (617,),\n",
       " (647,),\n",
       " (716,),\n",
       " (769,),\n",
       " (792,)]"
      ]
     },
     "execution_count": 46,
     "metadata": {},
     "output_type": "execute_result"
    }
   ],
   "source": [
    "%%sql select \n",
    "    case when count(depth) over(order by seq asc ROWS 2 PRECEDING) = 3\n",
    "        then sum(depth) over(order by seq asc ROWS 2 PRECEDING) \n",
    "        else null\n",
    "        end as diff\n",
    "    from aoc_day01"
   ]
  },
  {
   "cell_type": "code",
   "execution_count": 47,
   "metadata": {},
   "outputs": [
    {
     "name": "stdout",
     "output_type": "stream",
     "text": [
      " * db2+ibm_db://db2inst1:***@localhost:50000/aocdb\n",
      "(ibm_db_dbi.ProgrammingError) ibm_db_dbi::ProgrammingError: SQLNumResultCols failed: [IBM][CLI Driver][DB2/LINUXX8664] SQL0104N  An unexpected token \")\" was found following \"from depth3)\".  Expected tokens may include:  \"<space>\".  SQLSTATE=42601 SQLCODE=-104\n",
      "[SQL: with depth3 as (select\n",
      "    case when count(depth) over(order by seq asc ROWS 2 PRECEDING) = 3\n",
      "        then sum(depth) over(order by seq asc ROWS 2 PRECEDING) \n",
      "        else null\n",
      "        end as depth3\n",
      "    from aoc_day01)\n",
      ", depth3_diff as (select depth3 - (lag(depth3,1) over(order by seq asc)) as diff\n",
      "        from depth3)\n",
      ")\n",
      "select count(*) as count \n",
      "    from depth3_diff where diff > 0]\n",
      "(Background on this error at: http://sqlalche.me/e/f405)\n"
     ]
    }
   ],
   "source": [
    "%%sql with depth3 as (select \n",
    "    case when count(depth) over(order by seq asc ROWS 2 PRECEDING) = 3\n",
    "        then sum(depth) over(order by seq asc ROWS 2 PRECEDING) \n",
    "        else null\n",
    "        end as depth3\n",
    "    from aoc_day01)\n",
    ", depth3_diff as (select depth3 - (lag(depth3,1) over(order by seq asc)) as diff\n",
    "        from depth3\n",
    ")\n",
    "select count(*) as count \n",
    "    from depth3_diff where diff > 0"
   ]
  },
  {
   "cell_type": "code",
   "execution_count": null,
   "metadata": {},
   "outputs": [],
   "source": []
  }
 ],
 "metadata": {
  "kernelspec": {
   "display_name": "Python 3",
   "language": "python",
   "name": "python3"
  },
  "language_info": {
   "codemirror_mode": {
    "name": "ipython",
    "version": 3
   },
   "file_extension": ".py",
   "mimetype": "text/x-python",
   "name": "python",
   "nbconvert_exporter": "python",
   "pygments_lexer": "ipython3",
   "version": "3.7.4"
  }
 },
 "nbformat": 4,
 "nbformat_minor": 2
}
