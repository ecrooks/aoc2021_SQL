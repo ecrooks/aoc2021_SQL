{
 "cells": [
  {
   "cell_type": "markdown",
   "metadata": {},
   "source": [
    "# Advent of Code Day 03\n",
    "Coded in Db2 SQL. See [readme](https://github.com/ecrooks/aoc2021_SQL) for more details on how to use. "
   ]
  },
  {
   "cell_type": "markdown",
   "metadata": {},
   "source": [
    "Env setup - only needs to run once on each machine"
   ]
  },
  {
   "cell_type": "code",
   "execution_count": null,
   "metadata": {},
   "outputs": [],
   "source": [
    "!pip install ipython-sql\n",
    "!pip install ibm_db \n",
    "!pip install ibm_db_sa"
   ]
  },
  {
   "cell_type": "markdown",
   "metadata": {},
   "source": [
    "Restart the Kernel if this is your first time installing the above. The next steps will fail unless you do this."
   ]
  },
  {
   "cell_type": "markdown",
   "metadata": {},
   "source": [
    "Import modules and load the SQL magic"
   ]
  },
  {
   "cell_type": "code",
   "execution_count": null,
   "metadata": {},
   "outputs": [],
   "source": [
    "import ibm_db\n",
    "import ibm_db_sa\n",
    "import sqlalchemy\n",
    "%load_ext sql\n",
    "import getpass\n",
    "import csv"
   ]
  },
  {
   "cell_type": "markdown",
   "metadata": {},
   "source": [
    "Connect to the database. Change the values of user, host, and password to match your environment. For connection to a local host, use 'localhost' for the host name. Also change the port number and database name in the connection string."
   ]
  },
  {
   "cell_type": "code",
   "execution_count": null,
   "metadata": {},
   "outputs": [],
   "source": [
    "user='db2inst1'\n",
    "host='localhost'\n",
    "dbname='aocdb'\n",
    "\n",
    "\n",
    "password = getpass.getpass('Enter password for '+user+' on '+dbname)\n",
    "\n",
    "%sql db2+ibm_db://$user:$password@$host:50000/$dbname"
   ]
  },
  {
   "cell_type": "markdown",
   "metadata": {},
   "source": [
    "## Day 3, Part 1 Solution"
   ]
  },
  {
   "cell_type": "markdown",
   "metadata": {},
   "source": [
    "### Problem statement: \n",
    "\n",
    ">--- Day 3: Binary Diagnostic ---  \n",
    "The submarine has been making some odd creaking noises, so you ask it to produce a diagnostic report just in case.  \n",
    ">  \n",
    ">The diagnostic report (your puzzle input) consists of a list of binary numbers which, when decoded properly, can tell you many useful things about the conditions of the submarine. The first parameter to check is the power consumption.  \n",
    ">  \n",
    ">You need to use the binary numbers in the diagnostic report to generate two new binary numbers (called the gamma rate and the epsilon rate). The power consumption can then be found by multiplying the gamma rate by the epsilon rate.  \n",
    ">  \n",
    ">Each bit in the gamma rate can be determined by finding the most common bit in the corresponding position of all numbers in the diagnostic report. For example, given the following diagnostic report:  \n",
    ">  \n",
    ">```00100\n",
    "11110\n",
    "10110\n",
    "10111\n",
    "10101\n",
    "01111\n",
    "00111\n",
    "11100\n",
    "10000\n",
    "11001\n",
    "00010\n",
    "01010```  \n",
    ">  \n",
    ">  \n",
    ">  \n",
    ">Considering only the first bit of each number, there are five 0 bits and seven 1 bits. Since the most common bit is 1, the first bit of the gamma rate is 1.  \n",
    ">  \n",
    ">The most common second bit of the numbers in the diagnostic report is 0, so the second bit of the gamma rate is 0.  \n",
    ">  \n",
    ">The most common value of the third, fourth, and fifth bits are 1, 1, and 0, respectively, and so the final three bits of the gamma rate are 110.  \n",
    ">\n",
    ">So, the gamma rate is the binary number 10110, or 22 in decimal.  \n",
    ">\n",
    ">The epsilon rate is calculated in a similar way; rather than use the most common bit, the least common bit from each position is used. So, the epsilon rate is 01001, or 9 in decimal. Multiplying the gamma rate (22) by the epsilon rate (9) produces the power consumption, 198.  \n",
    ">  \n",
    ">Use the binary numbers in your diagnostic report to calculate the gamma rate and epsilon rate, then multiply them together. What is the power consumption of the submarine? (Be sure to represent your answer in decimal, not binary.)  "
   ]
  },
  {
   "cell_type": "markdown",
   "metadata": {},
   "source": [
    "### Create Objects and Load Data"
   ]
  },
  {
   "cell_type": "markdown",
   "metadata": {},
   "source": [
    "Create table to hold and work with the Data. Order actually doesn't matter here, but I'm a DBA and incapable of creating a table without a primary key if I have a choice, and I don't know if order might matter for part2. We'll use an identity colum to track the order of the values. In SQL, we cannot depend on data coming back in the order we inserted it."
   ]
  },
  {
   "cell_type": "markdown",
   "metadata": {},
   "source": [
    "I'm treating the data as char so I can easily address each character independently"
   ]
  },
  {
   "cell_type": "code",
   "execution_count": null,
   "metadata": {},
   "outputs": [],
   "source": [
    "%sql drop table aoc_day03;"
   ]
  },
  {
   "cell_type": "markdown",
   "metadata": {},
   "source": [
    "Table for sample data"
   ]
  },
  {
   "cell_type": "code",
   "execution_count": null,
   "metadata": {},
   "outputs": [],
   "source": [
    "%%sql \n",
    "create table aoc_day03 (\n",
    "\tseq int generated by default as identity primary key\n",
    "\t, bin_num char(12) not null\n",
    "\t, char_1 int generated always as (SUBSTR(bin_num,1,1))\n",
    "\t, char_2 int generated always as (SUBSTR(bin_num,2,1))\n",
    "\t, char_3 int generated always as (SUBSTR(bin_num,3,1))\n",
    "\t, char_4 int generated always as (SUBSTR(bin_num,4,1))\n",
    "\t, char_5 int generated always as (SUBSTR(bin_num,5,1))\n",
    ");"
   ]
  },
  {
   "cell_type": "markdown",
   "metadata": {},
   "source": [
    "Table for full data"
   ]
  },
  {
   "cell_type": "code",
   "execution_count": null,
   "metadata": {},
   "outputs": [],
   "source": [
    "%%sql \n",
    "create table aoc_day03 (\n",
    "\tseq int generated by default as identity primary key\n",
    "\t, bin_num char(12) not null\n",
    "\t, char_1 int generated always as (SUBSTR(bin_num,1,1))\n",
    "\t, char_2 int generated always as (SUBSTR(bin_num,2,1))\n",
    "\t, char_3 int generated always as (SUBSTR(bin_num,3,1))\n",
    "\t, char_4 int generated always as (SUBSTR(bin_num,4,1))\n",
    "\t, char_5 int generated always as (SUBSTR(bin_num,5,1))\n",
    "\t, char_6 int generated always as (SUBSTR(bin_num,6,1))\n",
    "\t, char_7 int generated always as (SUBSTR(bin_num,7,1))\n",
    "\t, char_8 int generated always as (SUBSTR(bin_num,8,1))\n",
    "\t, char_9 int generated always as (SUBSTR(bin_num,9,1))\n",
    "\t, char_10 int generated always as (SUBSTR(bin_num,10,1))\n",
    "\t, char_11 int generated always as (SUBSTR(bin_num,11,1))\n",
    "\t, char_12 int generated always as (SUBSTR(bin_num,12,1))\n",
    ");"
   ]
  },
  {
   "cell_type": "markdown",
   "metadata": {},
   "source": [
    "Import data into the table. Placing the file in the repo data directory will make it available in the right location if you use the container provided."
   ]
  },
  {
   "cell_type": "markdown",
   "metadata": {},
   "source": [
    "I wanted to use SQL for everything, but one thing Db2 can't handle in delimited files is a space as a delimiter. This means I have to parse the file in Python and write it out in some different format. Might as well be a csv."
   ]
  },
  {
   "cell_type": "markdown",
   "metadata": {},
   "source": [
    "Sample data"
   ]
  },
  {
   "cell_type": "code",
   "execution_count": null,
   "metadata": {},
   "outputs": [],
   "source": [
    "%%sql \n",
    "delete from aoc_day03;\n",
    "call admin_cmd ('import from /database/day03_input_sample.csv of del \n",
    "    insert into aoc_day03 (bin_num)');"
   ]
  },
  {
   "cell_type": "markdown",
   "metadata": {},
   "source": [
    "Quick verification"
   ]
  },
  {
   "cell_type": "code",
   "execution_count": null,
   "metadata": {},
   "outputs": [],
   "source": [
    "%sql select count(*) from aoc_day03;"
   ]
  },
  {
   "cell_type": "code",
   "execution_count": null,
   "metadata": {},
   "outputs": [],
   "source": [
    "%sql select * from aoc_day03 fetch first 5 rows only;"
   ]
  },
  {
   "cell_type": "markdown",
   "metadata": {},
   "source": [
    "Full data"
   ]
  },
  {
   "cell_type": "code",
   "execution_count": null,
   "metadata": {},
   "outputs": [],
   "source": [
    "%%sql \n",
    "delete from aoc_day03;\n",
    "call admin_cmd ('import from /database/day03_input.del of del \n",
    "    insert into aoc_day03 (bin_num)');"
   ]
  },
  {
   "cell_type": "code",
   "execution_count": null,
   "metadata": {},
   "outputs": [],
   "source": [
    "%sql select count(*) from aoc_day03;"
   ]
  },
  {
   "cell_type": "code",
   "execution_count": null,
   "metadata": {},
   "outputs": [],
   "source": [
    "# quick view of the data\n",
    "%sql select * from aoc_day03 fetch first 10 rows only"
   ]
  },
  {
   "cell_type": "markdown",
   "metadata": {},
   "source": [
    "### Final Solution to Part 1"
   ]
  },
  {
   "cell_type": "code",
   "execution_count": null,
   "metadata": {
    "scrolled": true
   },
   "outputs": [],
   "source": [
    "%%sql \n",
    "with params as (select (select char_1 from aoc_day03 group by char_1 order by count (*) desc fetch first 1 row only) * 2048\n",
    "    + (select char_2 from aoc_day03 group by char_2 order by count (*) desc fetch first 1 row only) * 1024\n",
    "    + (select char_3 from aoc_day03 group by char_3 order by count (*) desc fetch first 1 row only) * 512\n",
    "    + (select char_4 from aoc_day03 group by char_4 order by count (*) desc fetch first 1 row only) * 256\n",
    "    + (select char_5 from aoc_day03 group by char_5 order by count (*) desc fetch first 1 row only) * 128\n",
    "    + (select char_6 from aoc_day03 group by char_6 order by count (*) desc fetch first 1 row only) * 64\n",
    "    + (select char_7 from aoc_day03 group by char_7 order by count (*) desc fetch first 1 row only) * 32\n",
    "    + (select char_8 from aoc_day03 group by char_8 order by count (*) desc fetch first 1 row only) * 16\n",
    "    + (select char_9 from aoc_day03 group by char_9 order by count (*) desc fetch first 1 row only) * 8\n",
    "    + (select char_10 from aoc_day03 group by char_10 order by count (*) desc fetch first 1 row only) * 4\n",
    "    + (select char_11 from aoc_day03 group by char_11 order by count (*) desc fetch first 1 row only) * 2\n",
    "    + (select char_12 from aoc_day03 group by char_12 order by count (*) desc fetch first 1 row only) * 1 as gamma\n",
    "    , (select char_1 from aoc_day03 group by char_1 order by count (*) asc fetch first 1 row only) * 2048\n",
    "    + (select char_2 from aoc_day03 group by char_2 order by count (*) asc fetch first 1 row only) * 1024\n",
    "    + (select char_3 from aoc_day03 group by char_3 order by count (*) asc fetch first 1 row only) * 512\n",
    "    + (select char_4 from aoc_day03 group by char_4 order by count (*) asc fetch first 1 row only) * 256\n",
    "    + (select char_5 from aoc_day03 group by char_5 order by count (*) asc fetch first 1 row only) * 128\n",
    "    + (select char_6 from aoc_day03 group by char_6 order by count (*) asc fetch first 1 row only) * 64\n",
    "    + (select char_7 from aoc_day03 group by char_7 order by count (*) asc fetch first 1 row only) * 32\n",
    "    + (select char_8 from aoc_day03 group by char_8 order by count (*) asc fetch first 1 row only) * 16\n",
    "    + (select char_9 from aoc_day03 group by char_9 order by count (*) asc fetch first 1 row only) * 8\n",
    "    + (select char_10 from aoc_day03 group by char_10 order by count (*) asc fetch first 1 row only) * 4\n",
    "    + (select char_11 from aoc_day03 group by char_11 order by count (*) asc fetch first 1 row only) * 2\n",
    "    + (select char_12 from aoc_day03 group by char_12 order by count (*) asc fetch first 1 row only) * 1 as epsilon\n",
    "    from sysibm.sysdummy1)\n",
    "select gamma, epsilon, gamma*epsilon as power_consumption from params;"
   ]
  },
  {
   "cell_type": "markdown",
   "metadata": {},
   "source": [
    "Alternate and likely better solution"
   ]
  },
  {
   "cell_type": "code",
   "execution_count": null,
   "metadata": {},
   "outputs": [],
   "source": [
    "%%sql \n",
    "with params as (select case when float(sum(char_1))/float(count(*)) > 0.5 then 1 else 0 end * 2048\n",
    "    + case when float(sum(char_2))/float(count(*)) > 0.5 then 1 else 0 end * 1024\n",
    "    + case when float(sum(char_3))/float(count(*)) > 0.5 then 1 else 0 end * 512\n",
    "    + case when float(sum(char_4))/float(count(*)) > 0.5 then 1 else 0 end * 256\n",
    "    + case when float(sum(char_5))/float(count(*)) > 0.5 then 1 else 0 end * 128\n",
    "    + case when float(sum(char_6))/float(count(*)) > 0.5 then 1 else 0 end * 64\n",
    "    + case when float(sum(char_7))/float(count(*)) > 0.5 then 1 else 0 end * 32\n",
    "    + case when float(sum(char_8))/float(count(*)) > 0.5 then 1 else 0 end * 16\n",
    "    + case when float(sum(char_9))/float(count(*)) > 0.5 then 1 else 0 end * 8\n",
    "    + case when float(sum(char_10))/float(count(*)) > 0.5 then 1 else 0 end * 4\n",
    "    + case when float(sum(char_11))/float(count(*)) > 0.5 then 1 else 0 end * 2\n",
    "    + case when float(sum(char_12))/float(count(*)) > 0.5 then 1 else 0 end * 1 as gamma\n",
    "    ,case when float(sum(char_1))/float(count(*)) < 0.5 then 1 else 0 end * 2048\n",
    "    + case when float(sum(char_2))/float(count(*)) < 0.5 then 1 else 0 end * 1024\n",
    "    + case when float(sum(char_3))/float(count(*)) < 0.5 then 1 else 0 end * 512\n",
    "    + case when float(sum(char_4))/float(count(*)) < 0.5 then 1 else 0 end * 256\n",
    "    + case when float(sum(char_5))/float(count(*)) < 0.5 then 1 else 0 end * 128\n",
    "    + case when float(sum(char_6))/float(count(*)) < 0.5 then 1 else 0 end * 64\n",
    "    + case when float(sum(char_7))/float(count(*)) < 0.5 then 1 else 0 end * 32\n",
    "    + case when float(sum(char_8))/float(count(*)) < 0.5 then 1 else 0 end * 16\n",
    "    + case when float(sum(char_9))/float(count(*)) < 0.5 then 1 else 0 end * 8\n",
    "    + case when float(sum(char_10))/float(count(*)) < 0.5 then 1 else 0 end * 4\n",
    "    + case when float(sum(char_11))/float(count(*)) < 0.5 then 1 else 0 end * 2\n",
    "    + case when float(sum(char_12))/float(count(*)) < 0.5 then 1 else 0 end * 1 as epsilon\n",
    "from aoc_day03)\n",
    "select gamma, epsilon, gamma*epsilon as power_consumption from params;\n"
   ]
  },
  {
   "cell_type": "markdown",
   "metadata": {},
   "source": [
    "## Day 1, Part 2 Solution"
   ]
  },
  {
   "cell_type": "markdown",
   "metadata": {},
   "source": [
    "### Problem statement: \n",
    ">--- Part Two ---\n",
    ">Next, you should verify the life support rating, which can be determined by multiplying the oxygen generator rating by the CO2 scrubber rating.\n",
    ">\n",
    ">Both the oxygen generator rating and the CO2 scrubber rating are values that can be found in your diagnostic report - finding them is the tricky part. Both values are located using a similar process that involves filtering out values until only one remains. Before searching for either rating value, start with the full list of binary numbers from your diagnostic report and consider just the first bit of those numbers. Then:\n",
    ">\n",
    ">Keep only numbers selected by the bit criteria for the type of rating value for which you are searching. Discard numbers which do not match the bit criteria.\n",
    ">If you only have one number left, stop; this is the rating value for which you are searching.\n",
    ">Otherwise, repeat the process, considering the next bit to the right.\n",
    ">The bit criteria depends on which type of rating value you want to find:\n",
    ">\n",
    ">To find oxygen generator rating, determine the most common value (0 or 1) in the current bit position, and keep only numbers with that bit in that position. If 0 and 1 are equally common, keep values with a 1 in the position being considered.\n",
    ">To find CO2 scrubber rating, determine the least common value (0 or 1) in the current bit position, and keep only numbers with that bit in that position. If 0 and 1 are equally common, keep values with a 0 in the position being considered.\n",
    ">For example, to determine the oxygen generator rating value using the same example diagnostic report from above:\n",
    ">\n",
    ">Start with all 12 numbers and consider only the first bit of each number. There are more 1 bits (7) than 0 bits (5), so keep only the 7 numbers with a 1 in the first position: 11110, 10110, 10111, 10101, 11100, 10000, and 11001.\n",
    ">Then, consider the second bit of the 7 remaining numbers: there are more 0 bits (4) than 1 bits (3), so keep only the 4 numbers with a 0 in the second position: 10110, 10111, 10101, and 10000.\n",
    ">In the third position, three of the four numbers have a 1, so keep those three: 10110, 10111, and 10101.\n",
    ">In the fourth position, two of the three numbers have a 1, so keep those two: 10110 and 10111.\n",
    ">In the fifth position, there are an equal number of 0 bits and 1 bits (one each). So, to find the oxygen generator rating, keep the number with a 1 in that position: 10111.\n",
    ">As there is only one number left, stop; the oxygen generator rating is 10111, or 23 in decimal.\n",
    ">Then, to determine the CO2 scrubber rating value from the same example above:\n",
    ">\n",
    ">Start again with all 12 numbers and consider only the first bit of each number. There are fewer 0 bits (5) than 1 >bits (7), so keep only the 5 numbers with a 0 in the first position: 00100, 01111, 00111, 00010, and 01010.\n",
    ">Then, consider the second bit of the 5 remaining numbers: there are fewer 1 bits (2) than 0 bits (3), so keep only the 2 numbers with a 1 in the second position: 01111 and 01010.\n",
    ">In the third position, there are an equal number of 0 bits and 1 bits (one each). So, to find the CO2 scrubber rating, keep the number with a 0 in that position: 01010.\n",
    ">As there is only one number left, stop; the CO2 scrubber rating is 01010, or 10 in decimal.\n",
    ">Finally, to find the life support rating, multiply the oxygen generator rating (23) by the CO2 scrubber rating (10) to get 230.\n",
    ">\n",
    ">Use the binary numbers in your diagnostic report to calculate the oxygen generator rating and CO2 scrubber rating, then multiply them together. What is the life support rating of the submarine? (Be sure to represent your answer in decimal, not binary.)"
   ]
  },
  {
   "cell_type": "markdown",
   "metadata": {},
   "source": [
    "### Final Solution to Part 2 - Plain SQL"
   ]
  },
  {
   "cell_type": "markdown",
   "metadata": {},
   "source": [
    "Oxygen"
   ]
  },
  {
   "cell_type": "markdown",
   "metadata": {},
   "source": [
    "sample data"
   ]
  },
  {
   "cell_type": "code",
   "execution_count": null,
   "metadata": {},
   "outputs": [],
   "source": [
    "%%sql\n",
    "with digit1 as (select case when float(sum(substr(bin_num,1,1)))/float(count(*)) >= 0.5 then 1 else 0 end as char_1_digit \n",
    "               from aoc_day03)\n",
    ", set1 as (select * from aoc_day03, digit1 where substr(bin_num,1,1)=digit1.char_1_digit)\n",
    ", digit2 as (select case when float(sum(substr(bin_num,2,1)))/float(count(*)) >= 0.5 then 1 else 0 end as char_2_digit \n",
    "               from set1)\n",
    ", set2 as (select * from set1, digit2 where substr(bin_num,2,1)=digit2.char_2_digit)\n",
    ", digit3 as (select case when float(sum(substr(bin_num,3,1)))/float(count(*)) >= 0.5 then 1 else 0 end as char_3_digit \n",
    "               from set2)\n",
    ", set3 as (select * from set2, digit3 where substr(bin_num,3,1)=digit3.char_3_digit)\n",
    ", digit4 as (select case when float(sum(substr(bin_num,4,1)))/float(count(*)) >= 0.5 then 1 else 0 end as char_4_digit \n",
    "               from set3)\n",
    ", set4 as (select * from set3, digit4 where substr(bin_num,4,1)=digit4.char_4_digit)\n",
    ", digit5 as (select case when float(sum(substr(bin_num,5,1)))/float(count(*)) >= 0.5 then 1 else 0 end as char_5_digit \n",
    "               from set4)\n",
    ", set5 as (select * from set4, digit5 where substr(bin_num,5,1)=digit5.char_5_digit)\n",
    "select * from set5"
   ]
  },
  {
   "cell_type": "markdown",
   "metadata": {},
   "source": [
    "full data"
   ]
  },
  {
   "cell_type": "code",
   "execution_count": null,
   "metadata": {},
   "outputs": [],
   "source": [
    "%%sql\n",
    "with digit1 as (select case when float(sum(substr(bin_num,1,1)))/float(count(*)) >= 0.5 then 1 else 0 end as char_1_digit \n",
    "               from aoc_day03)\n",
    ", set1 as (select * from aoc_day03, digit1 where substr(bin_num,1,1)=digit1.char_1_digit)\n",
    ", digit2 as (select case when float(sum(substr(bin_num,2,1)))/float(count(*)) >= 0.5 then 1 else 0 end as char_2_digit \n",
    "               from set1)\n",
    ", set2 as (select * from set1, digit2 where substr(bin_num,2,1)=digit2.char_2_digit)\n",
    ", digit3 as (select case when float(sum(substr(bin_num,3,1)))/float(count(*)) >= 0.5 then 1 else 0 end as char_3_digit \n",
    "               from set2)\n",
    ", set3 as (select * from set2, digit3 where substr(bin_num,3,1)=digit3.char_3_digit)\n",
    ", digit4 as (select case when float(sum(substr(bin_num,4,1)))/float(count(*)) >= 0.5 then 1 else 0 end as char_4_digit \n",
    "               from set3)\n",
    ", set4 as (select * from set3, digit4 where substr(bin_num,4,1)=digit4.char_4_digit)\n",
    ", digit5 as (select case when float(sum(substr(bin_num,5,1)))/float(count(*)) >= 0.5 then 1 else 0 end as char_5_digit \n",
    "               from set4)\n",
    ", set5 as (select * from set4, digit5 where substr(bin_num,5,1)=digit5.char_5_digit)\n",
    ", digit6 as (select case when float(sum(substr(bin_num,6,1)))/float(count(*)) >= 0.5 then 1 else 0 end as char_6_digit \n",
    "               from set5)\n",
    ", set6 as (select * from set5, digit6 where substr(bin_num,6,1)=digit6.char_6_digit)\n",
    ", digit7 as (select case when float(sum(substr(bin_num,7,1)))/float(count(*)) >= 0.5 then 1 else 0 end as char_7_digit \n",
    "               from set6)\n",
    ", set7 as (select * from set6, digit7 where substr(bin_num,7,1)=digit7.char_7_digit)\n",
    ", digit8 as (select case when float(sum(substr(bin_num,8,1)))/float(count(*)) >= 0.5 then 1 else 0 end as char_8_digit \n",
    "               from set7)\n",
    ", set8 as (select * from set7, digit8 where substr(bin_num,8,1)=digit8.char_8_digit)\n",
    ", digit9 as (select case when float(sum(substr(bin_num,9,1)))/float(count(*)) >= 0.5 then 1 else 0 end as char_9_digit \n",
    "               from set8)\n",
    ", set9 as (select * from set8, digit9 where substr(bin_num,9,1)=digit9.char_9_digit)\n",
    ", digit10 as (select case when float(sum(substr(bin_num,10,1)))/float(count(*)) >= 0.5 then 1 else 0 end as char_10_digit \n",
    "               from set9)\n",
    ", set10 as (select * from set9, digit10 where substr(bin_num,10,1)=digit10.char_10_digit)\n",
    ", digit11 as (select case when float(sum(substr(bin_num,11,1)))/float(count(*)) >= 0.5 then 1 else 0 end as char_11_digit \n",
    "               from set10)\n",
    ", set11 as (select * from set10, digit11 where substr(bin_num,11,1)=digit11.char_11_digit)\n",
    ", digit12 as (select case when float(sum(substr(bin_num,12,1)))/float(count(*)) >= 0.5 then 1 else 0 end as char_12_digit \n",
    "               from set11)\n",
    ", set12 as (select * from set11, digit12 where substr(bin_num,12,1)=digit12.char_12_digit)\n",
    "select bin_to_int(bin_num) from set12"
   ]
  },
  {
   "cell_type": "markdown",
   "metadata": {},
   "source": [
    "Co2"
   ]
  },
  {
   "cell_type": "markdown",
   "metadata": {},
   "source": [
    "sample data"
   ]
  },
  {
   "cell_type": "code",
   "execution_count": null,
   "metadata": {},
   "outputs": [],
   "source": [
    "%%sql\n",
    "with digit1 as (select case when float(sum(substr(bin_num,1,1)))/float(count(*)) < 0.5 then 1 else 0 end as char_1_digit \n",
    "               from aoc_day03)\n",
    ", set1 as (select * from aoc_day03, digit1 where substr(bin_num,1,1)=digit1.char_1_digit)\n",
    ", digit2 as (select case when float(sum(substr(bin_num,2,1)))/float(count(*)) < 0.5 then 1 else 0 end as char_2_digit \n",
    "               from set1)\n",
    ", set2 as (select * from set1, digit2 where substr(bin_num,2,1)=digit2.char_2_digit)\n",
    ", digit3 as (select case when float(sum(substr(bin_num,3,1)))/float(count(*)) < 0.5 then 1 else 0 end as char_3_digit \n",
    "               from set2)\n",
    ", set3 as (select * from set2, digit3 where substr(bin_num,3,1)=digit3.char_3_digit)\n",
    ", digit4 as (select case when float(sum(substr(bin_num,4,1)))/float(count(*)) < 0.5 then 1 else 0 end as char_4_digit \n",
    "               from set3)\n",
    ", set4 as (select * from set3, digit4 where substr(bin_num,4,1)=digit4.char_4_digit)\n",
    ", digit5 as (select case when float(sum(substr(bin_num,5,1)))/float(count(*)) < 0.5 then 1 else 0 end as char_5_digit \n",
    "               from set4)\n",
    ", set5 as (select * from set4, digit5 where substr(bin_num,5,1)=digit5.char_5_digit)\n",
    "select 'set2', count(*) from set2\n",
    "union all\n",
    "select 'set3', count(*) from set3 \n",
    "union all \n",
    "select 'set4', count(*) from set4 \n",
    "union all\n",
    "select 'set5', count(*) from set5 order by 1"
   ]
  },
  {
   "cell_type": "code",
   "execution_count": null,
   "metadata": {},
   "outputs": [],
   "source": [
    "%%sql\n",
    "with digit1 as (select case when float(sum(substr(bin_num,1,1)))/float(count(*)) < 0.5 then 1 else 0 end as char_1_digit \n",
    "               from aoc_day03)\n",
    ", set1 as (select * from aoc_day03, digit1 where substr(bin_num,1,1)=digit1.char_1_digit)\n",
    ", digit2 as (select case when float(sum(substr(bin_num,2,1)))/float(count(*)) < 0.5 then 1 else 0 end as char_2_digit \n",
    "               from set1)\n",
    ", set2 as (select * from set1, digit2 where substr(bin_num,2,1)=digit2.char_2_digit)\n",
    ", digit3 as (select case when float(sum(substr(bin_num,3,1)))/float(count(*)) < 0.5 then 1 else 0 end as char_3_digit \n",
    "               from set2)\n",
    ", set3 as (select * from set2, digit3 where substr(bin_num,3,1)=digit3.char_3_digit)\n",
    ", digit4 as (select case when float(sum(substr(bin_num,4,1)))/float(count(*)) < 0.5 then 1 else 0 end as char_4_digit \n",
    "               from set3)\n",
    ", set4 as (select * from set3, digit4 where substr(bin_num,4,1)=digit4.char_4_digit)\n",
    ", digit5 as (select case when float(sum(substr(bin_num,5,1)))/float(count(*)) < 0.5 then 1 else 0 end as char_5_digit \n",
    "               from set4)\n",
    ", set5 as (select * from set4, digit5 where substr(bin_num,5,1)=digit5.char_5_digit)\n",
    "select * from set3"
   ]
  },
  {
   "cell_type": "markdown",
   "metadata": {},
   "source": [
    "Full Data"
   ]
  },
  {
   "cell_type": "code",
   "execution_count": null,
   "metadata": {},
   "outputs": [],
   "source": [
    "%%sql\n",
    "with digit1 as (select case when float(sum(substr(bin_num,1,1)))/float(count(*)) < 0.5 then 1 else 0 end as char_1_digit \n",
    "               from aoc_day03)\n",
    ", set1 as (select * from aoc_day03, digit1 where substr(bin_num,1,1)=digit1.char_1_digit)\n",
    ", digit2 as (select case when float(sum(substr(bin_num,2,1)))/float(count(*)) < 0.5 then 1 else 0 end as char_2_digit \n",
    "               from set1)\n",
    ", set2 as (select * from set1, digit2 where substr(bin_num,2,1)=digit2.char_2_digit)\n",
    ", digit3 as (select case when float(sum(substr(bin_num,3,1)))/float(count(*)) < 0.5 then 1 else 0 end as char_3_digit \n",
    "               from set2)\n",
    ", set3 as (select * from set2, digit3 where substr(bin_num,3,1)=digit3.char_3_digit)\n",
    ", digit4 as (select case when float(sum(substr(bin_num,4,1)))/float(count(*)) < 0.5 then 1 else 0 end as char_4_digit \n",
    "               from set3)\n",
    ", set4 as (select * from set3, digit4 where substr(bin_num,4,1)=digit4.char_4_digit)\n",
    ", digit5 as (select case when float(sum(substr(bin_num,5,1)))/float(count(*)) < 0.5 then 1 else 0 end as char_5_digit \n",
    "               from set4)\n",
    ", set5 as (select * from set4, digit5 where substr(bin_num,5,1)=digit5.char_5_digit)\n",
    ", digit6 as (select case when float(sum(substr(bin_num,6,1)))/float(count(*)) < 0.5 then 1 else 0 end as char_6_digit \n",
    "               from set5)\n",
    ", set6 as (select * from set5, digit6 where substr(bin_num,6,1)=digit6.char_6_digit)\n",
    ", digit7 as (select case when float(sum(substr(bin_num,7,1)))/float(count(*)) < 0.5 then 1 else 0 end as char_7_digit \n",
    "               from set6)\n",
    ", set7 as (select * from set6, digit7 where substr(bin_num,7,1)=digit7.char_7_digit)\n",
    ", digit8 as (select case when float(sum(substr(bin_num,8,1)))/float(count(*)) < 0.5 then 1 else 0 end as char_8_digit \n",
    "               from set7)\n",
    ", set8 as (select * from set7, digit8 where substr(bin_num,8,1)=digit8.char_8_digit)\n",
    ", digit9 as (select case when float(sum(substr(bin_num,9,1)))/float(count(*)) < 0.5 then 1 else 0 end as char_9_digit \n",
    "               from set8)\n",
    ", set9 as (select * from set8, digit9 where substr(bin_num,9,1)=digit9.char_9_digit)\n",
    ", digit10 as (select case when float(sum(substr(bin_num,10,1)))/float(count(*)) < 0.5 then 1 else 0 end as char_10_digit \n",
    "               from set9)\n",
    ", set10 as (select * from set9, digit10 where substr(bin_num,10,1)=digit10.char_10_digit)\n",
    ", digit11 as (select case when float(sum(substr(bin_num,11,1)))/float(count(*)) < 0.5 then 1 else 0 end as char_11_digit \n",
    "               from set10)\n",
    ", set11 as (select * from set10, digit11 where substr(bin_num,11,1)=digit11.char_11_digit)\n",
    ", digit12 as (select case when float(sum(substr(bin_num,12,1)))/float(count(*)) < 0.5 then 1 else 0 end as char_12_digit \n",
    "               from set11)\n",
    ", set12 as (select * from set11, digit12 where substr(bin_num,12,1)=digit12.char_12_digit)\n",
    "select 'set02', count(*) from set2\n",
    "union all\n",
    "select 'set03', count(*) from set3 \n",
    "union all \n",
    "select 'set04', count(*) from set4 \n",
    "union all\n",
    "select 'set05', count(*) from set5 \n",
    "union all\n",
    "select 'set06', count(*) from set6\n",
    "union all\n",
    "select 'set07', count(*) from set7 \n",
    "union all \n",
    "select 'set08', count(*) from set8 \n",
    "union all\n",
    "select 'set09', count(*) from set9 \n",
    "union all\n",
    "select 'set10', count(*) from set10\n",
    "union all\n",
    "select 'set11', count(*) from set11\n",
    "union all \n",
    "select 'set12', count(*) from set12\n",
    "order by 1"
   ]
  },
  {
   "cell_type": "code",
   "execution_count": null,
   "metadata": {},
   "outputs": [],
   "source": [
    "%%sql\n",
    "with digit1 as (select case when float(sum(substr(bin_num,1,1)))/float(count(*)) < 0.5 then 1 else 0 end as char_1_digit \n",
    "               from aoc_day03)\n",
    ", set1 as (select * from aoc_day03, digit1 where substr(bin_num,1,1)=digit1.char_1_digit)\n",
    ", digit2 as (select case when float(sum(substr(bin_num,2,1)))/float(count(*)) < 0.5 then 1 else 0 end as char_2_digit \n",
    "               from set1)\n",
    ", set2 as (select * from set1, digit2 where substr(bin_num,2,1)=digit2.char_2_digit)\n",
    ", digit3 as (select case when float(sum(substr(bin_num,3,1)))/float(count(*)) < 0.5 then 1 else 0 end as char_3_digit \n",
    "               from set2)\n",
    ", set3 as (select * from set2, digit3 where substr(bin_num,3,1)=digit3.char_3_digit)\n",
    ", digit4 as (select case when float(sum(substr(bin_num,4,1)))/float(count(*)) < 0.5 then 1 else 0 end as char_4_digit \n",
    "               from set3)\n",
    ", set4 as (select * from set3, digit4 where substr(bin_num,4,1)=digit4.char_4_digit)\n",
    ", digit5 as (select case when float(sum(substr(bin_num,5,1)))/float(count(*)) < 0.5 then 1 else 0 end as char_5_digit \n",
    "               from set4)\n",
    ", set5 as (select * from set4, digit5 where substr(bin_num,5,1)=digit5.char_5_digit)\n",
    ", digit6 as (select case when float(sum(substr(bin_num,6,1)))/float(count(*)) < 0.5 then 1 else 0 end as char_6_digit \n",
    "               from set5)\n",
    ", set6 as (select * from set5, digit6 where substr(bin_num,6,1)=digit6.char_6_digit)\n",
    ", digit7 as (select case when float(sum(substr(bin_num,7,1)))/float(count(*)) < 0.5 then 1 else 0 end as char_7_digit \n",
    "               from set6)\n",
    ", set7 as (select * from set6, digit7 where substr(bin_num,7,1)=digit7.char_7_digit)\n",
    ", digit8 as (select case when float(sum(substr(bin_num,8,1)))/float(count(*)) < 0.5 then 1 else 0 end as char_8_digit \n",
    "               from set7)\n",
    ", set8 as (select * from set7, digit8 where substr(bin_num,8,1)=digit8.char_8_digit)\n",
    ", digit9 as (select case when float(sum(substr(bin_num,9,1)))/float(count(*)) < 0.5 then 1 else 0 end as char_9_digit \n",
    "               from set8)\n",
    ", set9 as (select * from set8, digit9 where substr(bin_num,9,1)=digit9.char_9_digit)\n",
    ", digit10 as (select case when float(sum(substr(bin_num,10,1)))/float(count(*)) < 0.5 then 1 else 0 end as char_10_digit \n",
    "               from set9)\n",
    ", set10 as (select * from set9, digit10 where substr(bin_num,10,1)=digit10.char_10_digit)\n",
    ", digit11 as (select case when float(sum(substr(bin_num,11,1)))/float(count(*)) < 0.5 then 1 else 0 end as char_11_digit \n",
    "               from set10)\n",
    ", set11 as (select * from set10, digit11 where substr(bin_num,11,1)=digit11.char_11_digit)\n",
    ", digit12 as (select case when float(sum(substr(bin_num,12,1)))/float(count(*)) < 0.5 then 1 else 0 end as char_12_digit \n",
    "               from set11)\n",
    ", set12 as (select * from set11, digit12 where substr(bin_num,12,1)=digit12.char_12_digit)\n",
    "select bin_to_int(bin_num) from set8"
   ]
  },
  {
   "cell_type": "code",
   "execution_count": null,
   "metadata": {},
   "outputs": [],
   "source": [
    "1459*3178"
   ]
  },
  {
   "cell_type": "markdown",
   "metadata": {},
   "source": [
    "Helpful stored procs for this"
   ]
  },
  {
   "cell_type": "code",
   "execution_count": null,
   "metadata": {},
   "outputs": [],
   "source": [
    "# get db2.ipynb at https://github.com/IBM/db2-jupyter/blob/master/db2.ipynb\n",
    "# much easier to work with stored procedures with these tools\n",
    "%run db2.ipynb\n",
    "%sql CONNECT TO $dbname USER $user USING $password HOST $host PORT 50000"
   ]
  },
  {
   "cell_type": "markdown",
   "metadata": {},
   "source": [
    "Note: this section will not work without the extensions in db2.ipynb"
   ]
  },
  {
   "cell_type": "code",
   "execution_count": null,
   "metadata": {},
   "outputs": [],
   "source": [
    "%%sql -d\n",
    "CREATE OR REPLACE FUNCTION REVERSE(INSTR VARCHAR(4000))\n",
    "  RETURNS VARCHAR(4000) SPECIFIC REVERSE\n",
    "   DETERMINISTIC NO EXTERNAL ACTION CONTAINS SQL\n",
    " RETURN WITH rec(pos, res) AS (VALUES (1, CAST('' AS VARCHAR(4000)))\n",
    "                               UNION ALL\n",
    "                               SELECT pos + 1, SUBSTR(INSTR, pos , 1) || res\n",
    "                                 FROM rec\n",
    "                                 WHERE pos <= LENGTH(INSTR)\n",
    "                                   AND pos < 5000)\n",
    "        SELECT res FROM rec WHERE pos > LENGTH(INSTR)@\n",
    "drop function bin_to_int@\n",
    "create function bin_to_int (IN bin_str varchar(50))\n",
    "    returns  bigint\n",
    "    language sql\n",
    "    begin\n",
    "      declare ans bigint;\n",
    "      declare digit_num, digit_max smallint;\n",
    "      declare this_digit char(1);\n",
    "\n",
    "      set digit_num = 1;\n",
    "      set ans = 0;\n",
    "      set digit_max = length(bin_str);\n",
    "      set bin_str=reverse(bin_str);\n",
    "      while digit_num <= digit_max\n",
    "      do\n",
    "\tset this_digit=substr(bin_str,digit_num,1);\n",
    "\tif this_digit != 0 and this_digit != 1 then\n",
    "          signal sqlstate '75001'\n",
    "          set message_text = 'Non binary digit in input string';\n",
    "        end if;\n",
    "\tset ans=ans+this_digit*power(2,digit_num-1);\n",
    "\tset digit_num=digit_num+1;\n",
    "      end while;\n",
    "    return ans;\n",
    "end@"
   ]
  },
  {
   "cell_type": "markdown",
   "metadata": {},
   "source": [
    "Thanks to [this link](https://stackoverflow.com/questions/27171637/string-operation-in-sql-to-reverse-a-string) for preserving Serge Rileau's solution for a reverse udf"
   ]
  },
  {
   "cell_type": "code",
   "execution_count": null,
   "metadata": {},
   "outputs": [],
   "source": []
  }
 ],
 "metadata": {
  "kernelspec": {
   "display_name": "Python 3",
   "language": "python",
   "name": "python3"
  },
  "language_info": {
   "codemirror_mode": {
    "name": "ipython",
    "version": 3
   },
   "file_extension": ".py",
   "mimetype": "text/x-python",
   "name": "python",
   "nbconvert_exporter": "python",
   "pygments_lexer": "ipython3",
   "version": "3.7.4"
  }
 },
 "nbformat": 4,
 "nbformat_minor": 2
}
